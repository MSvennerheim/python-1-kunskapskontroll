{
 "cells": [
  {
   "metadata": {},
   "cell_type": "markdown",
   "source": "# Del 1",
   "id": "aaa720ce8bc6b584"
  },
  {
   "metadata": {},
   "cell_type": "markdown",
   "source": [
    "### 1. Vad är skillnaden på en tuple och list i Python? Är den ena datatypen bättre än den andra?\n",
    "\n",
    "Skillnaden på en tuple och en list är att en tuple är immutable (går ej att modifiera) medans en list är mutable.\n",
    "Ingen datatyp är \"bättre\" än den andra, utan båda har olika användningsområden (t.ex. om data ej ska gå att modifiera av misstag bör denna vara en tuple)."
   ],
   "id": "bcc94ca6100d0d9b"
  },
  {
   "metadata": {},
   "cell_type": "markdown",
   "source": [
    " ### 2. Vad är en funktion för något? Varför kan funktioner vara användbara?\n",
    "\n",
    "En funktion är ett kodblock som kan återkallas, detta kodblock kan ha inputvariablar och returvariablar, men det är inget krav. Bra om man behöver återanvända kod på flera platser utan att behöva repetera kod."
   ],
   "id": "5aa7a2f0e930e7e3"
  },
  {
   "metadata": {},
   "cell_type": "markdown",
   "source": [
    "### 3. Förklara vad nedanstående begrepp, kopplat till klasser, betyder:\n",
    "_a) Instans_\n",
    " - Ett enskillt objekt som skapas från en klass, flera instanser av samma klass kan vara aktiva parallelt med egna värden för attributen.\n",
    "\n",
    "_b) Attribut_\n",
    " - Variablar för klassen som beskriver objektets egenskaper.\n",
    "\n",
    "_c) Metod_\n",
    " - Funktioner som utför datatransfomation i objektet."
   ],
   "id": "1f0e336c8c4c06f1"
  },
  {
   "metadata": {},
   "cell_type": "markdown",
   "source": [
    "### 4. Vad är Streamlit för något?\n",
    "\n",
    "Ett ramverk för att bygga webapplikationer i python utan behov av att skapa en egen frontend, primärt för dataanalys, visualiering och ML."
   ],
   "id": "131565e2b7ae786b"
  },
  {
   "metadata": {},
   "cell_type": "markdown",
   "source": [
    "### 5. I Python ska du nu:\n",
    "a) Skapa en klass som heter BankAccount. Klassen skall ha attributet \"account_holder\"\n",
    "som visar kontoinnehavarens namn samt attributet \"balance\" som visar\n",
    "kontoinnehavarens balans. Klassen skall ha metoden \"deposit()\" för att kunna sätta in\n",
    "pengar på kontot samt metoden \"withdraw()\" för att kunna ta ut pengar från kontot. Om\n",
    "bankinnehavaren försöker ta ut mer pengar än vad som finns på kontot skall\n",
    "meddelandet \"Too low balance\" printas ut."
   ],
   "id": "99edb41874531324"
  },
  {
   "metadata": {
    "ExecuteTime": {
     "end_time": "2025-05-27T11:18:04.732110Z",
     "start_time": "2025-05-27T11:18:04.724743Z"
    }
   },
   "cell_type": "code",
   "source": [
    "class BankAccount:\n",
    "\n",
    "    def __init__(self, account_holder, balance):\n",
    "        self.account_holder = account_holder\n",
    "        self.balance = balance\n",
    "\n",
    "    def deposit(self, deposit_amount):\n",
    "        if isinstance(deposit_amount, (int, float)) and deposit_amount > 0:\n",
    "            self.balance += deposit_amount\n",
    "            print(f\"{deposit_amount} deposited to your account\")\n",
    "        elif isinstance(deposit_amount, (int, float)):\n",
    "            print(\"please deposit a positive amount\")\n",
    "        else:\n",
    "            print(\"please deposit a valid numerical value\")\n",
    "\n",
    "    def withdraw(self, withdawal_amount):\n",
    "        if isinstance(withdawal_amount, (int, float)) and withdawal_amount > 0:\n",
    "            if self.balance >= withdawal_amount:\n",
    "                self.balance -= withdawal_amount\n",
    "                print(f\"{withdawal_amount} withdrawed from your account\")\n",
    "            else:\n",
    "                print(\"Too low balance\")\n",
    "        else:\n",
    "            print(\"please withdraw a vaild numerical value\")"
   ],
   "id": "902a87f7a85eb72c",
   "outputs": [],
   "execution_count": 1
  },
  {
   "metadata": {},
   "cell_type": "markdown",
   "source": [
    "b) Skapa en instans av klassen och testa så klassen funkar så som du förväntar dig. Du\n",
    "kan till exempel prova printa ut attributen, sätta in pengar och ta ut pengar."
   ],
   "id": "b30e219097b78da0"
  },
  {
   "metadata": {
    "ExecuteTime": {
     "end_time": "2025-05-27T11:25:21.001987Z",
     "start_time": "2025-05-27T11:25:20.996747Z"
    }
   },
   "cell_type": "code",
   "source": [
    "Maxs_account = BankAccount(\"Max\", 100)\n",
    "\n",
    "# deposit valid value\n",
    "Maxs_account.deposit(100)\n",
    "\n",
    "# deposit invalid numerical value\n",
    "Maxs_account.deposit(-100)\n",
    "\n",
    "# deposit invalid value\n",
    "Maxs_account.deposit(\"one hundred\")\n",
    "\n",
    "# withdraw invalid numerical value\n",
    "Maxs_account.withdraw(-100)\n",
    "\n",
    "# withdraw too much\n",
    "Maxs_account.withdraw(250)\n",
    "\n",
    "# withdraw invalid value\n",
    "Maxs_account.withdraw(\"all money\")\n",
    "\n",
    "# withdraw valid value\n",
    "Maxs_account.withdraw(100)"
   ],
   "id": "4aca39a6f31253dd",
   "outputs": [
    {
     "name": "stdout",
     "output_type": "stream",
     "text": [
      "100 deposited to your account\n",
      "please deposit a positive amount\n",
      "please deposit a valid numerical value\n",
      "please withdraw a numerical value\n",
      "Too low balance\n",
      "please withdraw a numerical value\n",
      "100 withdrawed from your account\n"
     ]
    }
   ],
   "execution_count": 3
  },
  {
   "metadata": {},
   "cell_type": "markdown",
   "source": [
    " ### 6. På intervjuer brukar ibland kodtest genomföras. Här är ett exempel på en fråga som hade kunnat dyka upp på ett kodtest.\n",
    "Skapa en Python funktion som beräknar antalet vokaler i en sträng. Vokalerna är:\n",
    "A, E, I, O, U, Y, Å, Ä och Ö.\n",
    "Exempelvis: vowel_checker(’hjärna’) ska returnera ”2” eftersom ordet ”hjärna” har de två\n",
    "vokalerna ”ä” och ”a”."
   ],
   "id": "dea27967364807ed"
  },
  {
   "metadata": {
    "ExecuteTime": {
     "end_time": "2025-05-27T11:41:35.231489Z",
     "start_time": "2025-05-27T11:41:35.225492Z"
    }
   },
   "cell_type": "code",
   "source": [
    "def vowel_checker(word):\n",
    "    vowels = (\"A\", \"E\", \"I\", \"O\", \"U\", \"Y\", \"Å\", \"Ä\", \"Ö\")\n",
    "    word = word.upper()\n",
    "    return sum(1 for letter in word if letter in vowels)\n",
    "\n",
    "print(vowel_checker(\"hjärna\")) # 2\n",
    "print(vowel_checker(\"xyz\")) # 1\n",
    "print(vowel_checker(\"Realisationsvinstbeskattning\")) # 10\n",
    "print(vowel_checker(\"HBTQ\")) # 0"
   ],
   "id": "bafa155eb9e4af92",
   "outputs": [
    {
     "name": "stdout",
     "output_type": "stream",
     "text": [
      "2\n",
      "1\n",
      "10\n",
      "0\n"
     ]
    }
   ],
   "execution_count": 9
  },
  {
   "metadata": {},
   "cell_type": "markdown",
   "source": [
    "### 7. På intervjuer brukar ibland kodtest genomföras. Här är ett exempel på en fråga som hade kunnat dyka upp på ett kodtest.\n",
    "Skapa en funktion som tar två listor som argument och returnerar de gemensamma\n",
    "elementen i listorna i en ny lista.\n",
    "Exempelvis:\n",
    "common_elements([4, ’apple’, 10, ’hi’, 3], ([23 ’apple’, 5, 9, 3]) ska returnera svaret\n",
    "[’apple’, 3]"
   ],
   "id": "55660b81adb81db8"
  },
  {
   "metadata": {
    "ExecuteTime": {
     "end_time": "2025-05-27T11:59:56.557894Z",
     "start_time": "2025-05-27T11:59:56.552020Z"
    }
   },
   "cell_type": "code",
   "source": [
    "def common_elements(list1, list2):\n",
    "    return [element for element in list1 if element in list2]\n",
    "\n",
    "print(common_elements([4, \"apple\", 10, \"hi\", 3], [23, \"apple\", 5, 9, 3])) # ['apple', 3]\n",
    "print(common_elements([1, 2, 3, 4, 5], [5, 6, 7, 8, 1])) # [1, 5]\n",
    "print(common_elements([\"a\", \"b\", \"c\"], [\"A\", \"B\", \"C\"])) # []\n",
    "print(common_elements([True, False, 0, 1], [1, 0, True])) # [True, False, 0, 1] since False == 0"
   ],
   "id": "7ca4a658b83c8e73",
   "outputs": [
    {
     "name": "stdout",
     "output_type": "stream",
     "text": [
      "['apple', 3]\n",
      "[1, 5]\n",
      "[]\n",
      "[True, False, 0, 1]\n"
     ]
    }
   ],
   "execution_count": 19
  },
  {
   "metadata": {},
   "cell_type": "markdown",
   "source": [
    "### 8. Många barn tror att de blev till genom att en stork kom och lämnade dem till deras föräldrar. För att undersöka det kan vi kolla på data och det finns en graf enligt figuren nedan. Det verkar alltså finnas ett samband mellan antalet storkar och barnafödsel!? Stämmer påståendet? Använd begreppet ”kausalitet” i ditt svar.\n",
    "\n",
    "Nej, påståendet stämmer inte trots att datan verkar visa ett samband. I grafen visas en korrelation och inte en kausalitet. Antalet storkar och antalet födda barn samvarierar men det betyder inte att det ena orsakar det andra.\n",
    " Vi vet att ökad barnafödsel kan bero på andra faktorer som till exempel mattillgång, ekonomisk tillväxt, antalet fertila par som önskar barn och inte av antalet storkar.\n",
    " Detta är ett bra exempel på den engelska termen \"correlation does not imply causation\""
   ],
   "id": "3cd5b4d5eaacf5b4"
  },
  {
   "metadata": {},
   "cell_type": "markdown",
   "source": [
    "### 9. Kim påstår att ”medelvärdet” är ett bättre mått än ”medianvärdet”. Håller du med Kalle?\n",
    "Nej, medelvärde och median har olika användningsområden beroende på hur datan man vill analysera ser ut. Median kan vara bättre att använda sig av om den analyserade datan innehåller extremvärden eller om datan är skevt fördelad och man vill ha ut ett värde mer representativt av \"mitten\". Om datan däremot är jämt fördelad och saknar extremvärden kan medelvärde vara bra att använda sig av."
   ],
   "id": "5453a447945062e6"
  },
  {
   "metadata": {},
   "cell_type": "markdown",
   "source": [
    "### 10. Vad används cirkeldiagram för? Ge ett exempel på vad ett företag som Spotify (eller något annat företag som du själv väljer) hade kunnat använda cirkeldiagram för\n",
    "Cirkeldiagram används för att visa andelen av en helhet för en lätttolkad och tydlig visualisering. Däremot kan diagramet bli mindre tydligt om det finns för många olika typer av andelar eller om andelar overlappar. Ett företag som spotify skulle till exempel kunna använda detta för att visa andelen genrer(beroende på hur dessa representeras internt, räkmnas subgenres som egna genres kan datan lätt bli otydligt) på platformen eller hur andelen användare per prenumiationstyp."
   ],
   "id": "939416e05753c8dc"
  },
  {
   "metadata": {},
   "cell_type": "markdown",
   "source": [
    "### 11. Vad används linjediagram för? Ge ett exempel på vad ett företag som Spotify (eller något annat företag som du själv väljer) hade kunnat använda linjediagram för.\n",
    "Linediagram används primärt för att visualisera genomsnitt eller trender över ett dataset, ett företag som spotify skulle kunna använda detta för att visualisera genomsnittliga lyssningstiden per användare över ett tidsintervall eller aktiva användare per månad."
   ],
   "id": "fcb5fabc50598f91"
  },
  {
   "metadata": {},
   "cell_type": "markdown",
   "source": [
    "### 12. Vad används lådagram för?\n",
    "Ett låddiagram används för att statistiskt beskriva spridningen och föredelningen över ett datasett. Diagramet centreras runt medianvärdet, \"lådan\" som representerar kvartilerna(25e och 75e precentilen) och linjer som beskriver högsta och lägsta värderna i settet. Vid statistiskt avvikande värden kan dessa representeras som punkter utanför diagrammet."
   ],
   "id": "20e6dd21757fb6d0"
  }
 ],
 "metadata": {
  "kernelspec": {
   "display_name": "Python 3",
   "language": "python",
   "name": "python3"
  },
  "language_info": {
   "codemirror_mode": {
    "name": "ipython",
    "version": 2
   },
   "file_extension": ".py",
   "mimetype": "text/x-python",
   "name": "python",
   "nbconvert_exporter": "python",
   "pygments_lexer": "ipython2",
   "version": "2.7.6"
  }
 },
 "nbformat": 4,
 "nbformat_minor": 5
}
